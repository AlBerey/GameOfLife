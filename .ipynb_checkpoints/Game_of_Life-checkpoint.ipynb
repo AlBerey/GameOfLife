{
 "cells": [
  {
   "cell_type": "markdown",
   "id": "70a8c095",
   "metadata": {},
   "source": [
    "# Conway's Game of Life\n",
    "This is an old notebook, in which I implemented the game of life."
   ]
  },
  {
   "cell_type": "code",
   "execution_count": 1,
   "id": "82b8bf7c",
   "metadata": {},
   "outputs": [],
   "source": [
    "import numpy as np\n",
    "from matplotlib import pyplot as plt\n",
    "import time\n",
    "from IPython.display import clear_output"
   ]
  },
  {
   "cell_type": "markdown",
   "id": "e2d34d06",
   "metadata": {},
   "source": [
    "## Let's implement the the rules:\n",
    "The rules say that we start with a girded universe. Each grid cell in this universe is either alive, i.e., 1, or dead, i.e., 0. In each time slot, this universe transits to a new universe, where \n",
    "\n",
    "1. An alive cell remains alive, if it has two or three alive neighbors.\n",
    "2. A dead cell turns alive, if it has exactly three alive neighbors.\n",
    "3. Any alive cell with less than 2 alive neighbors or more than 3 alive neighbors dies.\n",
    "4. Any dead cell with less than or more 3 alive neighbors remains dead.\n",
    "\n",
    "We now try to implement it.\n",
    "\n",
    "### First, we list the neighbors\n",
    "For this, we mesh the region around each cell uning the np function meshgrid. We then delete the cell itself from this list. We should further attention that each cell has exactly 8 neighbors and the index of the cells cannot exceed d-1 or get bellow 0. So, we should find the neighbors of the edge cells by circular shifts."
   ]
  },
  {
   "cell_type": "code",
   "execution_count": 2,
   "id": "667618a9",
   "metadata": {},
   "outputs": [],
   "source": [
    "def neighbor(coordinate: tuple, d: int):\n",
    "    '''\n",
    "    i: index on axis x\n",
    "    j: index on axis y\n",
    "    output = list of neighbors in rows of an np.array \n",
    "    '''\n",
    "    \n",
    "    # First list the x-axis and y-axis elements\n",
    "    x = np.arange(coordinate[1]-1 , coordinate[1]+2 ) % d\n",
    "    y = np.arange(coordinate[0]-1 , coordinate[0]+2 ) % d\n",
    "    \n",
    "    # Now, we mesh all the region including the cell coordinate = [i,j]\n",
    "    neighbors = np.array(np.meshgrid(y,x)).T.reshape(x.size*y.size,2)\n",
    "    \n",
    "    # We now remove the index coordinate = [i,j]\n",
    "    ind = np.where((neighbors == coordinate).all(axis = 1))\n",
    "    neighbors = np.delete(neighbors,ind,0)\n",
    "    \n",
    "    # return the list\n",
    "    return neighbors     "
   ]
  },
  {
   "cell_type": "markdown",
   "id": "5fbc530e",
   "metadata": {},
   "source": [
    "### Then, we calculate the life score of each cell\n",
    "We define the life score to bee the number of alive neighbors. Using the function neighbor, we can simply calculate it for a given cell"
   ]
  },
  {
   "cell_type": "code",
   "execution_count": 3,
   "id": "5fe7599f",
   "metadata": {},
   "outputs": [],
   "source": [
    "def life_score(U: np.ndarray, coordinate: tuple):\n",
    "    '''\n",
    "    U = the universe matrix < d x d >\n",
    "    coordinate = (i,j) tuple\n",
    "    Output = the sum of living neighbors\n",
    "    '''\n",
    "    \n",
    "    # Initial value of the score\n",
    "    score = 0\n",
    "    \n",
    "    # We list the neighbor of the coordinate\n",
    "    N = neighbor(coordinate, U.shape[0])\n",
    "    for index in range(N.shape[0]):\n",
    "        score += U[N[index,:][0], N[index,:][1]]\n",
    "    return score "
   ]
  },
  {
   "cell_type": "markdown",
   "id": "28d790e5",
   "metadata": {},
   "source": [
    "### Finally, we implement the state change\n",
    "We now go through the cells and check their life scores. Based on that, we decide for the value of the cell after transition. Note that when we implement the transition function, we should save the new values in a new matrix (in the code below, it is U_1). The reason is that, one particular cell is neighbor with multiple other cells, and we should not change it, before the transision of all the cells is determined."
   ]
  },
  {
   "cell_type": "code",
   "execution_count": 4,
   "id": "bd15d783",
   "metadata": {},
   "outputs": [],
   "source": [
    "def state_change(U):\n",
    "    '''\n",
    "    U = universe matrix\n",
    "    Output = The new universe matrix after the game rules run over all entries\n",
    "    '''\n",
    "    U_1 = np.copy(U)\n",
    "    for i in range(U.shape[0]):\n",
    "        for j in range(U.shape[1]):\n",
    "            if U[i,j] == 1:\n",
    "                if (life_score(U, (i,j)) != 2) and (life_score(U, (i,j)) != 3):\n",
    "                    U_1[i,j] = 0\n",
    "            else:\n",
    "                if life_score(U, (i,j)) == 3:\n",
    "                    U_1[i,j] = 1\n",
    "    return U_1 "
   ]
  },
  {
   "cell_type": "markdown",
   "id": "9fa59d4e",
   "metadata": {},
   "source": [
    "## Now, let's try some initialization\n",
    "Some known initialization are below:"
   ]
  },
  {
   "cell_type": "markdown",
   "id": "c8171cc3",
   "metadata": {},
   "source": [
    "### An example of block modes\n",
    "It never changes in transitions"
   ]
  },
  {
   "cell_type": "code",
   "execution_count": 7,
   "id": "29c99897",
   "metadata": {},
   "outputs": [
    {
     "data": {
      "text/plain": [
       "<matplotlib.image.AxesImage at 0x11c780310>"
      ]
     },
     "execution_count": 7,
     "metadata": {},
     "output_type": "execute_result"
    },
    {
     "data": {
      "image/png": "[encoded data removed]",
      "text/plain": [
       "<Figure size 400x400 with 1 Axes>"
      ]
     },
     "metadata": {},
     "output_type": "display_data"
    }
   ],
   "source": [
    "d = 4\n",
    "universe = np.zeros((d,d))\n",
    "universe[1,1], universe[1,2], universe[2,1], universe[2,2] = 1, 1, 1, 1\n",
    "\n",
    "plt.figure(figsize=(4,4))\n",
    "plt.imshow(universe, cmap = 'Greys')"
   ]
  },
  {
   "cell_type": "markdown",
   "id": "752ec9f6",
   "metadata": {},
   "source": [
    "### An example of oscilating modes\n",
    "It ocsilates among a certain number of modes. For the example below, the period is simply 2."
   ]
  },
  {
   "cell_type": "code",
   "execution_count": 8,
   "id": "c127a6b9",
   "metadata": {},
   "outputs": [
    {
     "data": {
      "text/plain": [
       "<matplotlib.image.AxesImage at 0x11c7caa40>"
      ]
     },
     "execution_count": 8,
     "metadata": {},
     "output_type": "execute_result"
    },
    {
     "data": {
      "image/png": "[encoded data removed]",
      "text/plain": [
       "<Figure size 400x400 with 1 Axes>"
      ]
     },
     "metadata": {},
     "output_type": "display_data"
    }
   ],
   "source": [
    "d = 5\n",
    "universe = np.zeros((d,d))\n",
    "universe[1,2], universe[2,2], universe[3,2] = 1, 1, 1\n",
    "\n",
    "plt.figure(figsize=(4,4))\n",
    "plt.imshow(universe, cmap = 'Greys')"
   ]
  },
  {
   "cell_type": "markdown",
   "id": "bfb6569e",
   "metadata": {},
   "source": [
    "### We can also give a random initialization\n",
    "This is my favorite random sparse mmodel: Every cell is randomly set to be alive or dead, for a certain probability of living."
   ]
  },
  {
   "cell_type": "code",
   "execution_count": 11,
   "id": "fddce812",
   "metadata": {
    "scrolled": true
   },
   "outputs": [
    {
     "data": {
      "text/plain": [
       "<matplotlib.image.AxesImage at 0x11c8f54b0>"
      ]
     },
     "execution_count": 11,
     "metadata": {},
     "output_type": "execute_result"
    },
    {
     "data": {
      "image/png": "[encoded data removed]",
      "text/plain": [
       "<Figure size 300x300 with 1 Axes>"
      ]
     },
     "metadata": {},
     "output_type": "display_data"
    }
   ],
   "source": [
    "# The dimension of the universe\n",
    "d = 50\n",
    "\n",
    "# Probability of living for each cell\n",
    "p = .5\n",
    "\n",
    "# Avoid over-writing by resetting universe to zero\n",
    "universe = np.zeros((d,d))\n",
    "\n",
    "# Random initialization\n",
    "universe[np.random.rand(d,d) >= (1 - p)] = 1\n",
    "\n",
    "# How it looks \n",
    "plt.figure(figsize=(3,3))\n",
    "plt.imshow(universe, cmap='Greys')"
   ]
  },
  {
   "cell_type": "markdown",
   "id": "bd94ab56",
   "metadata": {},
   "source": [
    "### Another form of randomization\n",
    "But for Game of Life, it should be better to consider snother random sparse model: Each row/column has a fixed number of nonzero entries which are located randomly."
   ]
  },
  {
   "cell_type": "code",
   "execution_count": 12,
   "id": "2e97f6e4",
   "metadata": {},
   "outputs": [
    {
     "data": {
      "text/plain": [
       "<matplotlib.image.AxesImage at 0x11c947e20>"
      ]
     },
     "execution_count": 12,
     "metadata": {},
     "output_type": "execute_result"
    },
    {
     "data": {
      "image/png": "[encoded data removed]",
      "text/plain": [
       "<Figure size 300x300 with 1 Axes>"
      ]
     },
     "metadata": {},
     "output_type": "display_data"
    }
   ],
   "source": [
    "# Set the dimension\n",
    "d = 100\n",
    "\n",
    "# Set the number of nonzero entries per row/column\n",
    "L = 30\n",
    "\n",
    "# Avoid over-writing by resetting universe to zero\n",
    "universe = np.zeros((d,d))\n",
    "\n",
    "\n",
    "for i in [np.random.randint(int(d/5), high = d - 1 - int(d/5)) for _ in range(L)]:\n",
    "    for j in [np.random.randint(int(d/5), high = d - 1 - int(d/5)) for _ in range(L)]:\n",
    "        universe[i,j] = 1\n",
    "        \n",
    "# How it looks \n",
    "plt.figure(figsize=(3,3))\n",
    "plt.imshow(universe, cmap='Greys')"
   ]
  },
  {
   "cell_type": "markdown",
   "id": "96e45ae1",
   "metadata": {},
   "source": [
    "## We can now plot the life evolution\n",
    "Here is how it evolves. We should just specify the time duration T which specifies the number of transitions to be ploted. Also, comment out all the above universes, but the one you would like."
   ]
  },
  {
   "cell_type": "code",
   "execution_count": 13,
   "id": "c341e9fa",
   "metadata": {},
   "outputs": [
    {
     "data": {
      "image/png": "[encoded data removed]",
      "text/plain": [
       "<Figure size 1000x1000 with 1 Axes>"
      ]
     },
     "metadata": {},
     "output_type": "display_data"
    }
   ],
   "source": [
    "# Specify the time duration <int>\n",
    "T = 20\n",
    "\n",
    "# First, plot the initial universe\n",
    "plt.figure(figsize=(10,10))\n",
    "plt.imshow(universe, cmap = 'Greys')\n",
    "plt.show()\n",
    "time.sleep(.5)\n",
    "clear_output(wait=True)\n",
    "\n",
    "# Now, we start to plot transitions\n",
    "for _ in range(T):\n",
    "    universe = state_change(universe)\n",
    "    plt.figure(figsize=(10,10))\n",
    "    plt.imshow(universe, cmap = 'Greys')\n",
    "    plt.show()\n",
    "    time.sleep(.5)\n",
    "    clear_output(wait=True)"
   ]
  },
  {
   "cell_type": "markdown",
   "id": "3d7c2c73",
   "metadata": {},
   "source": [
    "Cool! Nice to see it after some time :)"
   ]
  }
 ],
 "metadata": {
  "kernelspec": {
   "display_name": "Python 3 (ipykernel)",
   "language": "python",
   "name": "python3"
  },
  "language_info": {
   "codemirror_mode": {
    "name": "ipython",
    "version": 3
   },
   "file_extension": ".py",
   "mimetype": "text/x-python",
   "name": "python",
   "nbconvert_exporter": "python",
   "pygments_lexer": "ipython3",
   "version": "3.10.10"
  }
 },
 "nbformat": 4,
 "nbformat_minor": 5
}
